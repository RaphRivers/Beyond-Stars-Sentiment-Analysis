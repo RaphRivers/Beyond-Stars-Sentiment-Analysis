{
 "cells": [
  {
   "cell_type": "markdown",
   "id": "c9cd08cd",
   "metadata": {},
   "source": [
    "# Data Exploration and Cleaning"
   ]
  },
  {
   "cell_type": "markdown",
   "id": "b28443d4",
   "metadata": {},
   "source": [
    "Author: Raphael Rivers"
   ]
  },
  {
   "cell_type": "markdown",
   "id": "56df5db9",
   "metadata": {},
   "source": [
    "Date: October 25, 2023"
   ]
  },
  {
   "cell_type": "markdown",
   "id": "08aadd81",
   "metadata": {},
   "source": [
    "## Data Collection"
   ]
  },
  {
   "cell_type": "markdown",
   "id": "43a179c1",
   "metadata": {},
   "source": [
    "**Dataset Source:** \n",
    "The primary data source for this research project is the Yelp open source dataset, an extensive and invaluable resource for academic and data-related endeavors. This dataset, available for academic purposes and research, is accessible as a compressed zip file from the official Yelp dataset website. It encompasses a wealth of information, including data on 150,346 businesses, 6,990,280 user reviews, 200,100 pictures, 908,915 tips, 1,987,897 users, and over 1.2 million business attributes, covering 11 metropolitan areas. The business datasets offer comprehensive insights into a wide array of establishments, ranging from restaurants to retail stores, providing data on attributes such as hours of operation, parking availability, and ambience. Moreover, the user reviews section supplies textual reviews, star ratings, and user identifiers, making it an invaluable resource for Natural Language Processing (NLP) and sentiment analysis. The availability of user-generated images and tips further enriches the dataset, offering both visual and concise textual user feedback. For the purposes of this research, this dataset will serve as the foundation for our analysis of the interplay between review sentiments, star ratings, and business patronage.\n",
    "\n",
    "**Data Extraction:**\n",
    "Data extraction from the Yelp open source dataset will be carried out systematically to obtain the relevant information required for our analysis. The dataset is provided in a structured format, typically as JSON files, which can be efficiently processed using various data manipulation and analysis tools. We will employ data extraction techniques to gather data on businesses, user reviews, and related attributes. This will involve parsing the JSON files to extract details about businesses, including their categories, locations, attributes, and unique identifiers. Additionally, user reviews will be extracted, including the review text, star ratings, and user identifiers, which will be crucial for sentiment analysis and understanding customer feedback. Images associated with businesses and user-generated tips will also be collected for a more comprehensive analysis. As our research aims to explore the impact of review sentiments and star ratings on business patronage, data extraction will ensure that we have the necessary information to answer our research questions. The extracted data will be subjected to further cleaning and preprocessing to make it suitable for our analytical tools and methodologies.\n",
    "\n",
    "**Dataset Licence:** https://s3-media0.fl.yelpcdn.com/assets/srv0/engineering_pages/f64cb2d3efcc/assets/vendor/Dataset_User_Agreement.pdf"
   ]
  },
  {
   "cell_type": "markdown",
   "id": "d9fabda6",
   "metadata": {},
   "source": [
    "**Program Language:** *Python 3.11*\n",
    "\n",
    "**Libraries:** *Pandas, Numpy, MathplotLIB, Scipy, Seaborn, VADER, TextBlob and/or NLTK (Sentiment Intensity Analyzer), SpaCy (Text Analysis)*"
   ]
  },
  {
   "cell_type": "markdown",
   "id": "dc45d3be",
   "metadata": {},
   "source": [
    "## Data Preparation"
   ]
  },
  {
   "cell_type": "markdown",
   "id": "e0904641",
   "metadata": {},
   "source": [
    "1. **Load Businesses Dataset:** Loading the JSON Dataset into DataFrames using Padas libraries. \n",
    "2. **Exploration Dataset:** Exploring the dataset to understand its underlying structure and content and verifying data for any missing or inconsistencies.\n",
    "3. **Data Preprocessing:** Preprocessing and cleaning the data, including;     \n",
    "    - Removing any irrelevant columns.\n",
    "    - Handling missing values if present.\n",
    "4. **Wrangling and Cleaning Dataframes:** Merging business categories into one dataframe, and exporting to CSV for analysis \n",
    "5. **Random Sampling:** Select 10,000 random samples from each dataframe. Mearge selection into one dataframe for analysis "
   ]
  },
  {
   "cell_type": "code",
   "execution_count": 1,
   "id": "f724ea40",
   "metadata": {},
   "outputs": [],
   "source": [
    "# Import Pandas library to transform and manipulate datasets\n",
    "import pandas as pd"
   ]
  },
  {
   "cell_type": "code",
   "execution_count": 2,
   "id": "2d3e406f",
   "metadata": {},
   "outputs": [
    {
     "data": {
      "text/plain": [
       "'E:\\\\Projects\\\\Python\\\\Sentiment Analysis'"
      ]
     },
     "execution_count": 2,
     "metadata": {},
     "output_type": "execute_result"
    }
   ],
   "source": [
    "pwd # Print wroking directory"
   ]
  },
  {
   "cell_type": "markdown",
   "id": "12a8237b",
   "metadata": {},
   "source": [
    "### Load Yelp Businesses Dataset "
   ]
  },
  {
   "cell_type": "code",
   "execution_count": 3,
   "id": "509fb39e",
   "metadata": {},
   "outputs": [],
   "source": [
    "# Import and load the Yelp business.json file using pandas into raw_df dataframe\n",
    "yelp_business_json = 'RAW Data/JSON/yelp_academic_dataset_business.json'\n",
    "raw_df = pd.read_json(yelp_business_json, lines=True)"
   ]
  },
  {
   "cell_type": "code",
   "execution_count": 4,
   "id": "a60ed95b",
   "metadata": {},
   "outputs": [
    {
     "data": {
      "text/html": [
       "<div>\n",
       "<style scoped>\n",
       "    .dataframe tbody tr th:only-of-type {\n",
       "        vertical-align: middle;\n",
       "    }\n",
       "\n",
       "    .dataframe tbody tr th {\n",
       "        vertical-align: top;\n",
       "    }\n",
       "\n",
       "    .dataframe thead th {\n",
       "        text-align: right;\n",
       "    }\n",
       "</style>\n",
       "<table border=\"1\" class=\"dataframe\">\n",
       "  <thead>\n",
       "    <tr style=\"text-align: right;\">\n",
       "      <th></th>\n",
       "      <th>business_id</th>\n",
       "      <th>name</th>\n",
       "      <th>address</th>\n",
       "      <th>city</th>\n",
       "      <th>state</th>\n",
       "      <th>postal_code</th>\n",
       "      <th>latitude</th>\n",
       "      <th>longitude</th>\n",
       "      <th>stars</th>\n",
       "      <th>review_count</th>\n",
       "      <th>is_open</th>\n",
       "      <th>attributes</th>\n",
       "      <th>categories</th>\n",
       "      <th>hours</th>\n",
       "    </tr>\n",
       "  </thead>\n",
       "  <tbody>\n",
       "    <tr>\n",
       "      <th>0</th>\n",
       "      <td>Pns2l4eNsfO8kk83dixA6A</td>\n",
       "      <td>Abby Rappoport, LAC, CMQ</td>\n",
       "      <td>1616 Chapala St, Ste 2</td>\n",
       "      <td>Santa Barbara</td>\n",
       "      <td>CA</td>\n",
       "      <td>93101</td>\n",
       "      <td>34.426679</td>\n",
       "      <td>-119.711197</td>\n",
       "      <td>5.0</td>\n",
       "      <td>7</td>\n",
       "      <td>0</td>\n",
       "      <td>{'ByAppointmentOnly': 'True'}</td>\n",
       "      <td>Doctors, Traditional Chinese Medicine, Naturop...</td>\n",
       "      <td>None</td>\n",
       "    </tr>\n",
       "    <tr>\n",
       "      <th>1</th>\n",
       "      <td>mpf3x-BjTdTEA3yCZrAYPw</td>\n",
       "      <td>The UPS Store</td>\n",
       "      <td>87 Grasso Plaza Shopping Center</td>\n",
       "      <td>Affton</td>\n",
       "      <td>MO</td>\n",
       "      <td>63123</td>\n",
       "      <td>38.551126</td>\n",
       "      <td>-90.335695</td>\n",
       "      <td>3.0</td>\n",
       "      <td>15</td>\n",
       "      <td>1</td>\n",
       "      <td>{'BusinessAcceptsCreditCards': 'True'}</td>\n",
       "      <td>Shipping Centers, Local Services, Notaries, Ma...</td>\n",
       "      <td>{'Monday': '0:0-0:0', 'Tuesday': '8:0-18:30', ...</td>\n",
       "    </tr>\n",
       "    <tr>\n",
       "      <th>2</th>\n",
       "      <td>tUFrWirKiKi_TAnsVWINQQ</td>\n",
       "      <td>Target</td>\n",
       "      <td>5255 E Broadway Blvd</td>\n",
       "      <td>Tucson</td>\n",
       "      <td>AZ</td>\n",
       "      <td>85711</td>\n",
       "      <td>32.223236</td>\n",
       "      <td>-110.880452</td>\n",
       "      <td>3.5</td>\n",
       "      <td>22</td>\n",
       "      <td>0</td>\n",
       "      <td>{'BikeParking': 'True', 'BusinessAcceptsCredit...</td>\n",
       "      <td>Department Stores, Shopping, Fashion, Home &amp; G...</td>\n",
       "      <td>{'Monday': '8:0-22:0', 'Tuesday': '8:0-22:0', ...</td>\n",
       "    </tr>\n",
       "    <tr>\n",
       "      <th>3</th>\n",
       "      <td>MTSW4McQd7CbVtyjqoe9mw</td>\n",
       "      <td>St Honore Pastries</td>\n",
       "      <td>935 Race St</td>\n",
       "      <td>Philadelphia</td>\n",
       "      <td>PA</td>\n",
       "      <td>19107</td>\n",
       "      <td>39.955505</td>\n",
       "      <td>-75.155564</td>\n",
       "      <td>4.0</td>\n",
       "      <td>80</td>\n",
       "      <td>1</td>\n",
       "      <td>{'RestaurantsDelivery': 'False', 'OutdoorSeati...</td>\n",
       "      <td>Restaurants, Food, Bubble Tea, Coffee &amp; Tea, B...</td>\n",
       "      <td>{'Monday': '7:0-20:0', 'Tuesday': '7:0-20:0', ...</td>\n",
       "    </tr>\n",
       "    <tr>\n",
       "      <th>4</th>\n",
       "      <td>mWMc6_wTdE0EUBKIGXDVfA</td>\n",
       "      <td>Perkiomen Valley Brewery</td>\n",
       "      <td>101 Walnut St</td>\n",
       "      <td>Green Lane</td>\n",
       "      <td>PA</td>\n",
       "      <td>18054</td>\n",
       "      <td>40.338183</td>\n",
       "      <td>-75.471659</td>\n",
       "      <td>4.5</td>\n",
       "      <td>13</td>\n",
       "      <td>1</td>\n",
       "      <td>{'BusinessAcceptsCreditCards': 'True', 'Wheelc...</td>\n",
       "      <td>Brewpubs, Breweries, Food</td>\n",
       "      <td>{'Wednesday': '14:0-22:0', 'Thursday': '16:0-2...</td>\n",
       "    </tr>\n",
       "  </tbody>\n",
       "</table>\n",
       "</div>"
      ],
      "text/plain": [
       "              business_id                      name  \\\n",
       "0  Pns2l4eNsfO8kk83dixA6A  Abby Rappoport, LAC, CMQ   \n",
       "1  mpf3x-BjTdTEA3yCZrAYPw             The UPS Store   \n",
       "2  tUFrWirKiKi_TAnsVWINQQ                    Target   \n",
       "3  MTSW4McQd7CbVtyjqoe9mw        St Honore Pastries   \n",
       "4  mWMc6_wTdE0EUBKIGXDVfA  Perkiomen Valley Brewery   \n",
       "\n",
       "                           address           city state postal_code  \\\n",
       "0           1616 Chapala St, Ste 2  Santa Barbara    CA       93101   \n",
       "1  87 Grasso Plaza Shopping Center         Affton    MO       63123   \n",
       "2             5255 E Broadway Blvd         Tucson    AZ       85711   \n",
       "3                      935 Race St   Philadelphia    PA       19107   \n",
       "4                    101 Walnut St     Green Lane    PA       18054   \n",
       "\n",
       "    latitude   longitude  stars  review_count  is_open  \\\n",
       "0  34.426679 -119.711197    5.0             7        0   \n",
       "1  38.551126  -90.335695    3.0            15        1   \n",
       "2  32.223236 -110.880452    3.5            22        0   \n",
       "3  39.955505  -75.155564    4.0            80        1   \n",
       "4  40.338183  -75.471659    4.5            13        1   \n",
       "\n",
       "                                          attributes  \\\n",
       "0                      {'ByAppointmentOnly': 'True'}   \n",
       "1             {'BusinessAcceptsCreditCards': 'True'}   \n",
       "2  {'BikeParking': 'True', 'BusinessAcceptsCredit...   \n",
       "3  {'RestaurantsDelivery': 'False', 'OutdoorSeati...   \n",
       "4  {'BusinessAcceptsCreditCards': 'True', 'Wheelc...   \n",
       "\n",
       "                                          categories  \\\n",
       "0  Doctors, Traditional Chinese Medicine, Naturop...   \n",
       "1  Shipping Centers, Local Services, Notaries, Ma...   \n",
       "2  Department Stores, Shopping, Fashion, Home & G...   \n",
       "3  Restaurants, Food, Bubble Tea, Coffee & Tea, B...   \n",
       "4                          Brewpubs, Breweries, Food   \n",
       "\n",
       "                                               hours  \n",
       "0                                               None  \n",
       "1  {'Monday': '0:0-0:0', 'Tuesday': '8:0-18:30', ...  \n",
       "2  {'Monday': '8:0-22:0', 'Tuesday': '8:0-22:0', ...  \n",
       "3  {'Monday': '7:0-20:0', 'Tuesday': '7:0-20:0', ...  \n",
       "4  {'Wednesday': '14:0-22:0', 'Thursday': '16:0-2...  "
      ]
     },
     "execution_count": 4,
     "metadata": {},
     "output_type": "execute_result"
    }
   ],
   "source": [
    "# Preview the imported dataframe \n",
    "raw_df.head(5)"
   ]
  },
  {
   "cell_type": "code",
   "execution_count": 5,
   "id": "996a18ca",
   "metadata": {
    "scrolled": false
   },
   "outputs": [
    {
     "name": "stdout",
     "output_type": "stream",
     "text": [
      "<class 'pandas.core.frame.DataFrame'>\n",
      "RangeIndex: 150346 entries, 0 to 150345\n",
      "Data columns (total 14 columns):\n",
      " #   Column        Non-Null Count   Dtype  \n",
      "---  ------        --------------   -----  \n",
      " 0   business_id   150346 non-null  object \n",
      " 1   name          150346 non-null  object \n",
      " 2   address       150346 non-null  object \n",
      " 3   city          150346 non-null  object \n",
      " 4   state         150346 non-null  object \n",
      " 5   postal_code   150346 non-null  object \n",
      " 6   latitude      150346 non-null  float64\n",
      " 7   longitude     150346 non-null  float64\n",
      " 8   stars         150346 non-null  float64\n",
      " 9   review_count  150346 non-null  int64  \n",
      " 10  is_open       150346 non-null  int64  \n",
      " 11  attributes    136602 non-null  object \n",
      " 12  categories    150243 non-null  object \n",
      " 13  hours         127123 non-null  object \n",
      "dtypes: float64(3), int64(2), object(9)\n",
      "memory usage: 16.1+ MB\n"
     ]
    }
   ],
   "source": [
    "# Explore businesses dataframe to see all fields\n",
    "raw_df.info()"
   ]
  },
  {
   "cell_type": "markdown",
   "id": "90b2068d",
   "metadata": {},
   "source": [
    "### Drop unwanted fields in dataset"
   ]
  },
  {
   "cell_type": "markdown",
   "id": "e316524a",
   "metadata": {},
   "source": [
    "We see that they are column in the dataset that are not relevant to our analysis hence we will drop unwanted fields from the dataset. Why? This sentiment analysis focuses on overall sentiment without delving into specific businesses attributes as it customer experiences or understanding how different aspects of the user experience impact sentiment.  We will focus only on business that are opened, negating convienience attributes, geo markers and total number of review count. We aim to classify the sentiment of text data into categories like positive, negative, or neutral, we do not need the total number of stars. Sentiment classification typically focuses on the overall sentiment expressed in the text rather than the specific count of rating.  the total number of stars in a review or rating can be used as a feature in your analysis. If we wanted to examine how the actual rating (total number of stars) aligns with the sentiment classification. This would have provide valuable insights into the correlation between numerical ratings and textual sentiment. However, this is not the case."
   ]
  },
  {
   "cell_type": "code",
   "execution_count": 6,
   "id": "bf6e44cb",
   "metadata": {},
   "outputs": [],
   "source": [
    "# Filter business that are open from those that are closed in is_open field and reassign opened businesses to biz df\n",
    "# Note datatype, 1 = open, 0 = close\n",
    "\n",
    "biz = raw_df[raw_df['is_open']==1]"
   ]
  },
  {
   "cell_type": "code",
   "execution_count": 7,
   "id": "1fa7388e",
   "metadata": {},
   "outputs": [
    {
     "data": {
      "text/html": [
       "<div>\n",
       "<style scoped>\n",
       "    .dataframe tbody tr th:only-of-type {\n",
       "        vertical-align: middle;\n",
       "    }\n",
       "\n",
       "    .dataframe tbody tr th {\n",
       "        vertical-align: top;\n",
       "    }\n",
       "\n",
       "    .dataframe thead th {\n",
       "        text-align: right;\n",
       "    }\n",
       "</style>\n",
       "<table border=\"1\" class=\"dataframe\">\n",
       "  <thead>\n",
       "    <tr style=\"text-align: right;\">\n",
       "      <th></th>\n",
       "      <th>business_id</th>\n",
       "      <th>name</th>\n",
       "      <th>address</th>\n",
       "      <th>city</th>\n",
       "      <th>state</th>\n",
       "      <th>postal_code</th>\n",
       "      <th>latitude</th>\n",
       "      <th>longitude</th>\n",
       "      <th>stars</th>\n",
       "      <th>review_count</th>\n",
       "      <th>is_open</th>\n",
       "      <th>attributes</th>\n",
       "      <th>categories</th>\n",
       "      <th>hours</th>\n",
       "    </tr>\n",
       "  </thead>\n",
       "  <tbody>\n",
       "    <tr>\n",
       "      <th>1</th>\n",
       "      <td>mpf3x-BjTdTEA3yCZrAYPw</td>\n",
       "      <td>The UPS Store</td>\n",
       "      <td>87 Grasso Plaza Shopping Center</td>\n",
       "      <td>Affton</td>\n",
       "      <td>MO</td>\n",
       "      <td>63123</td>\n",
       "      <td>38.551126</td>\n",
       "      <td>-90.335695</td>\n",
       "      <td>3.0</td>\n",
       "      <td>15</td>\n",
       "      <td>1</td>\n",
       "      <td>{'BusinessAcceptsCreditCards': 'True'}</td>\n",
       "      <td>Shipping Centers, Local Services, Notaries, Ma...</td>\n",
       "      <td>{'Monday': '0:0-0:0', 'Tuesday': '8:0-18:30', ...</td>\n",
       "    </tr>\n",
       "    <tr>\n",
       "      <th>3</th>\n",
       "      <td>MTSW4McQd7CbVtyjqoe9mw</td>\n",
       "      <td>St Honore Pastries</td>\n",
       "      <td>935 Race St</td>\n",
       "      <td>Philadelphia</td>\n",
       "      <td>PA</td>\n",
       "      <td>19107</td>\n",
       "      <td>39.955505</td>\n",
       "      <td>-75.155564</td>\n",
       "      <td>4.0</td>\n",
       "      <td>80</td>\n",
       "      <td>1</td>\n",
       "      <td>{'RestaurantsDelivery': 'False', 'OutdoorSeati...</td>\n",
       "      <td>Restaurants, Food, Bubble Tea, Coffee &amp; Tea, B...</td>\n",
       "      <td>{'Monday': '7:0-20:0', 'Tuesday': '7:0-20:0', ...</td>\n",
       "    </tr>\n",
       "  </tbody>\n",
       "</table>\n",
       "</div>"
      ],
      "text/plain": [
       "              business_id                name  \\\n",
       "1  mpf3x-BjTdTEA3yCZrAYPw       The UPS Store   \n",
       "3  MTSW4McQd7CbVtyjqoe9mw  St Honore Pastries   \n",
       "\n",
       "                           address          city state postal_code   latitude  \\\n",
       "1  87 Grasso Plaza Shopping Center        Affton    MO       63123  38.551126   \n",
       "3                      935 Race St  Philadelphia    PA       19107  39.955505   \n",
       "\n",
       "   longitude  stars  review_count  is_open  \\\n",
       "1 -90.335695    3.0            15        1   \n",
       "3 -75.155564    4.0            80        1   \n",
       "\n",
       "                                          attributes  \\\n",
       "1             {'BusinessAcceptsCreditCards': 'True'}   \n",
       "3  {'RestaurantsDelivery': 'False', 'OutdoorSeati...   \n",
       "\n",
       "                                          categories  \\\n",
       "1  Shipping Centers, Local Services, Notaries, Ma...   \n",
       "3  Restaurants, Food, Bubble Tea, Coffee & Tea, B...   \n",
       "\n",
       "                                               hours  \n",
       "1  {'Monday': '0:0-0:0', 'Tuesday': '8:0-18:30', ...  \n",
       "3  {'Monday': '7:0-20:0', 'Tuesday': '7:0-20:0', ...  "
      ]
     },
     "execution_count": 7,
     "metadata": {},
     "output_type": "execute_result"
    }
   ],
   "source": [
    "# verify that business close are filttered out\n",
    "biz.head(2)"
   ]
  },
  {
   "cell_type": "code",
   "execution_count": 8,
   "id": "139c0bbc",
   "metadata": {},
   "outputs": [],
   "source": [
    "# Use the drop method to drop unneeded columns including: hours, latitude, longitude, review_count, attributes and stars\n",
    "# list unnecessary fields into drop_fields variable and drop \n",
    "drop_columns = ['latitude','longitude','hours', 'attributes', 'stars']\n",
    "biz = biz.drop(drop_columns, axis=1)"
   ]
  },
  {
   "cell_type": "code",
   "execution_count": 9,
   "id": "55fd5959",
   "metadata": {},
   "outputs": [
    {
     "name": "stdout",
     "output_type": "stream",
     "text": [
      "<class 'pandas.core.frame.DataFrame'>\n",
      "Int64Index: 119698 entries, 1 to 150345\n",
      "Data columns (total 9 columns):\n",
      " #   Column        Non-Null Count   Dtype \n",
      "---  ------        --------------   ----- \n",
      " 0   business_id   119698 non-null  object\n",
      " 1   name          119698 non-null  object\n",
      " 2   address       119698 non-null  object\n",
      " 3   city          119698 non-null  object\n",
      " 4   state         119698 non-null  object\n",
      " 5   postal_code   119698 non-null  object\n",
      " 6   review_count  119698 non-null  int64 \n",
      " 7   is_open       119698 non-null  int64 \n",
      " 8   categories    119603 non-null  object\n",
      "dtypes: int64(2), object(7)\n",
      "memory usage: 9.1+ MB\n"
     ]
    }
   ],
   "source": [
    "# Verify that selected columns are dropped \n",
    "biz.info()"
   ]
  },
  {
   "cell_type": "markdown",
   "id": "c4bf995d",
   "metadata": {},
   "source": [
    "### Explode Business Categories and Split them into different rows"
   ]
  },
  {
   "cell_type": "code",
   "execution_count": 10,
   "id": "3258d447",
   "metadata": {},
   "outputs": [
    {
     "name": "stdout",
     "output_type": "stream",
     "text": [
      "<class 'pandas.core.series.Series'>\n",
      "Int64Index: 119698 entries, 1 to 150345\n",
      "Series name: categories\n",
      "Non-Null Count   Dtype \n",
      "--------------   ----- \n",
      "119603 non-null  object\n",
      "dtypes: object(1)\n",
      "memory usage: 1.8+ MB\n"
     ]
    }
   ],
   "source": [
    "# Inspect the business categories\n",
    "biz.categories.info()"
   ]
  },
  {
   "cell_type": "markdown",
   "id": "5dbe94ae",
   "metadata": {},
   "source": [
    "We can see that we have over 100,000 business categories in the dataset where each business contains serveral identifying categories as subs strings. Now let's classify the business into specific categories that will serve our purpose.\n",
    "Split the business categories field strings into individual subs strings base on the delimiter (,) or whitespace and assign each a new row. This does not repplace the original record. It is just creating new ones to narrow down business categories applicable to this analysis. This is useful because we are dealing with data that has one-to-many relationships, where each business has many category. \n"
   ]
  },
  {
   "cell_type": "code",
   "execution_count": 11,
   "id": "ff07d3fe",
   "metadata": {
    "scrolled": false
   },
   "outputs": [
    {
     "data": {
      "text/plain": [
       "Beauty & Spas, Nail Salons    900\n",
       "Nail Salons, Beauty & Spas    849\n",
       "Restaurants, Pizza            668\n",
       "Pizza, Restaurants            575\n",
       "Restaurants, Chinese          537\n",
       "Chinese, Restaurants          513\n",
       "Restaurants, Mexican          447\n",
       "Mexican, Restaurants          417\n",
       "Beauty & Spas, Hair Salons    408\n",
       "Hair Salons, Beauty & Spas    387\n",
       "Name: categories, dtype: int64"
      ]
     },
     "execution_count": 11,
     "metadata": {},
     "output_type": "execute_result"
    }
   ],
   "source": [
    "# Inspect Top 10 business categories record\n",
    "biz.categories.value_counts()[:10]"
   ]
  },
  {
   "cell_type": "markdown",
   "id": "82bfd2b9",
   "metadata": {},
   "source": [
    "#### Explode the categories list to transform strings into separate rows with values for each string element using .explode() \n",
    "and with the .assign() method assign the splited strings dataset to a new dataframe biz_cat1"
   ]
  },
  {
   "cell_type": "code",
   "execution_count": 12,
   "id": "97ec86de",
   "metadata": {},
   "outputs": [],
   "source": [
    "# Split the categories column strings based on delimiter and whitespace with .str.split(', ') \n",
    "biz_cat1 = biz.assign(categories = biz.categories.str.split(', ')).explode('categories')"
   ]
  },
  {
   "cell_type": "code",
   "execution_count": 13,
   "id": "d769bf2b",
   "metadata": {},
   "outputs": [],
   "source": [
    "# Drop rows with missing values in the categories column and filter out rows with white spaces\n",
    "biz_cat = biz_cat1.dropna(subset=['categories'])"
   ]
  },
  {
   "cell_type": "code",
   "execution_count": 14,
   "id": "a6c884c2",
   "metadata": {
    "scrolled": true
   },
   "outputs": [
    {
     "data": {
      "text/html": [
       "<div>\n",
       "<style scoped>\n",
       "    .dataframe tbody tr th:only-of-type {\n",
       "        vertical-align: middle;\n",
       "    }\n",
       "\n",
       "    .dataframe tbody tr th {\n",
       "        vertical-align: top;\n",
       "    }\n",
       "\n",
       "    .dataframe thead th {\n",
       "        text-align: right;\n",
       "    }\n",
       "</style>\n",
       "<table border=\"1\" class=\"dataframe\">\n",
       "  <thead>\n",
       "    <tr style=\"text-align: right;\">\n",
       "      <th></th>\n",
       "      <th>business_id</th>\n",
       "      <th>name</th>\n",
       "      <th>address</th>\n",
       "      <th>city</th>\n",
       "      <th>state</th>\n",
       "      <th>postal_code</th>\n",
       "      <th>review_count</th>\n",
       "      <th>is_open</th>\n",
       "      <th>categories</th>\n",
       "    </tr>\n",
       "  </thead>\n",
       "  <tbody>\n",
       "    <tr>\n",
       "      <th>1</th>\n",
       "      <td>mpf3x-BjTdTEA3yCZrAYPw</td>\n",
       "      <td>The UPS Store</td>\n",
       "      <td>87 Grasso Plaza Shopping Center</td>\n",
       "      <td>Affton</td>\n",
       "      <td>MO</td>\n",
       "      <td>63123</td>\n",
       "      <td>15</td>\n",
       "      <td>1</td>\n",
       "      <td>Shipping Centers</td>\n",
       "    </tr>\n",
       "    <tr>\n",
       "      <th>1</th>\n",
       "      <td>mpf3x-BjTdTEA3yCZrAYPw</td>\n",
       "      <td>The UPS Store</td>\n",
       "      <td>87 Grasso Plaza Shopping Center</td>\n",
       "      <td>Affton</td>\n",
       "      <td>MO</td>\n",
       "      <td>63123</td>\n",
       "      <td>15</td>\n",
       "      <td>1</td>\n",
       "      <td>Local Services</td>\n",
       "    </tr>\n",
       "    <tr>\n",
       "      <th>1</th>\n",
       "      <td>mpf3x-BjTdTEA3yCZrAYPw</td>\n",
       "      <td>The UPS Store</td>\n",
       "      <td>87 Grasso Plaza Shopping Center</td>\n",
       "      <td>Affton</td>\n",
       "      <td>MO</td>\n",
       "      <td>63123</td>\n",
       "      <td>15</td>\n",
       "      <td>1</td>\n",
       "      <td>Notaries</td>\n",
       "    </tr>\n",
       "    <tr>\n",
       "      <th>1</th>\n",
       "      <td>mpf3x-BjTdTEA3yCZrAYPw</td>\n",
       "      <td>The UPS Store</td>\n",
       "      <td>87 Grasso Plaza Shopping Center</td>\n",
       "      <td>Affton</td>\n",
       "      <td>MO</td>\n",
       "      <td>63123</td>\n",
       "      <td>15</td>\n",
       "      <td>1</td>\n",
       "      <td>Mailbox Centers</td>\n",
       "    </tr>\n",
       "    <tr>\n",
       "      <th>1</th>\n",
       "      <td>mpf3x-BjTdTEA3yCZrAYPw</td>\n",
       "      <td>The UPS Store</td>\n",
       "      <td>87 Grasso Plaza Shopping Center</td>\n",
       "      <td>Affton</td>\n",
       "      <td>MO</td>\n",
       "      <td>63123</td>\n",
       "      <td>15</td>\n",
       "      <td>1</td>\n",
       "      <td>Printing Services</td>\n",
       "    </tr>\n",
       "  </tbody>\n",
       "</table>\n",
       "</div>"
      ],
      "text/plain": [
       "              business_id           name                          address  \\\n",
       "1  mpf3x-BjTdTEA3yCZrAYPw  The UPS Store  87 Grasso Plaza Shopping Center   \n",
       "1  mpf3x-BjTdTEA3yCZrAYPw  The UPS Store  87 Grasso Plaza Shopping Center   \n",
       "1  mpf3x-BjTdTEA3yCZrAYPw  The UPS Store  87 Grasso Plaza Shopping Center   \n",
       "1  mpf3x-BjTdTEA3yCZrAYPw  The UPS Store  87 Grasso Plaza Shopping Center   \n",
       "1  mpf3x-BjTdTEA3yCZrAYPw  The UPS Store  87 Grasso Plaza Shopping Center   \n",
       "\n",
       "     city state postal_code  review_count  is_open         categories  \n",
       "1  Affton    MO       63123            15        1   Shipping Centers  \n",
       "1  Affton    MO       63123            15        1     Local Services  \n",
       "1  Affton    MO       63123            15        1           Notaries  \n",
       "1  Affton    MO       63123            15        1    Mailbox Centers  \n",
       "1  Affton    MO       63123            15        1  Printing Services  "
      ]
     },
     "execution_count": 14,
     "metadata": {},
     "output_type": "execute_result"
    }
   ],
   "source": [
    "biz_cat.head() # verify dataframe "
   ]
  },
  {
   "cell_type": "code",
   "execution_count": 15,
   "id": "2112bd6f",
   "metadata": {},
   "outputs": [
    {
     "data": {
      "text/plain": [
       "Restaurants                  34987\n",
       "Food                         20419\n",
       "Shopping                     20186\n",
       "Home Services                13322\n",
       "Beauty & Spas                12263\n",
       "Health & Medical             11046\n",
       "Local Services               10138\n",
       "Automotive                    9879\n",
       "Nightlife                     8379\n",
       "Event Planning & Services     8173\n",
       "Name: categories, dtype: int64"
      ]
     },
     "execution_count": 15,
     "metadata": {},
     "output_type": "execute_result"
    }
   ],
   "source": [
    "biz_cat.categories.value_counts()[:10]"
   ]
  },
  {
   "cell_type": "markdown",
   "id": "9d90d5f0",
   "metadata": {},
   "source": [
    "### Select relevant businesses categories for random sampling "
   ]
  },
  {
   "cell_type": "markdown",
   "id": "d3090453",
   "metadata": {},
   "source": [
    "### Create Dataframes for selected business category"
   ]
  },
  {
   "cell_type": "markdown",
   "id": "903d4e59",
   "metadata": {},
   "source": [
    "Choose 5 categories, which are Restaurants, Beauty & Spas, Health & Medical, Automotive, and Shopping. Generate a boolean series that includes keywords for these categories to filter and create separate dataframes for each of these focus categories."
   ]
  },
  {
   "cell_type": "code",
   "execution_count": 16,
   "id": "0b348935",
   "metadata": {},
   "outputs": [],
   "source": [
    "# Create a boolean Series that contains category in the 'Categories' column\n",
    "contain_resturants = biz_cat['categories'].str.contains('Restaurants', case=True, na=False)\n",
    "contain_beauty = biz_cat['categories'].str.contains('Beauty & Spas', case=True, na=False)\n",
    "contain_medical = biz_cat['categories'].str.contains('Health & Medical', case=True, na=False)\n",
    "contain_automotive = biz_cat['categories'].str.contains('Automotive', case=True, na=False)\n",
    "contain_shopping = biz_cat['categories'].str.contains('Shopping', case=True, na=False)"
   ]
  },
  {
   "cell_type": "code",
   "execution_count": 17,
   "id": "59b3b654",
   "metadata": {},
   "outputs": [],
   "source": [
    "# Filter the rows of the businesses categories for new dataframes\n",
    "resturants = biz_cat[contain_resturants]\n",
    "beauty = biz_cat[contain_beauty]\n",
    "medical = biz_cat[contain_medical]\n",
    "automotive = biz_cat[contain_automotive]\n",
    "shopping = biz_cat[contain_shopping]"
   ]
  },
  {
   "cell_type": "code",
   "execution_count": 18,
   "id": "ac3c764e",
   "metadata": {},
   "outputs": [],
   "source": [
    "# Create a new Dataframes for business categories to store the filtered results\n",
    "resturants.reset_index(drop=True, inplace=True)\n",
    "beauty.reset_index(drop=True, inplace=True)\n",
    "medical.reset_index(drop=True, inplace=True)\n",
    "automotive.reset_index(drop=True, inplace=True)\n",
    "shopping.reset_index(drop=True, inplace=True)"
   ]
  },
  {
   "cell_type": "markdown",
   "id": "e0d14f63",
   "metadata": {},
   "source": [
    "### Display the selected businesses category dataframes and verify sample size."
   ]
  },
  {
   "cell_type": "markdown",
   "id": "6108c7ab",
   "metadata": {},
   "source": [
    " This allows us to verify if the data loading and manipulation operations have been executed accurately."
   ]
  },
  {
   "cell_type": "code",
   "execution_count": 19,
   "id": "76262d20",
   "metadata": {
    "scrolled": false
   },
   "outputs": [
    {
     "data": {
      "text/html": [
       "<div>\n",
       "<style scoped>\n",
       "    .dataframe tbody tr th:only-of-type {\n",
       "        vertical-align: middle;\n",
       "    }\n",
       "\n",
       "    .dataframe tbody tr th {\n",
       "        vertical-align: top;\n",
       "    }\n",
       "\n",
       "    .dataframe thead th {\n",
       "        text-align: right;\n",
       "    }\n",
       "</style>\n",
       "<table border=\"1\" class=\"dataframe\">\n",
       "  <thead>\n",
       "    <tr style=\"text-align: right;\">\n",
       "      <th></th>\n",
       "      <th>business_id</th>\n",
       "      <th>name</th>\n",
       "      <th>address</th>\n",
       "      <th>city</th>\n",
       "      <th>state</th>\n",
       "      <th>postal_code</th>\n",
       "      <th>review_count</th>\n",
       "      <th>is_open</th>\n",
       "      <th>categories</th>\n",
       "    </tr>\n",
       "  </thead>\n",
       "  <tbody>\n",
       "    <tr>\n",
       "      <th>0</th>\n",
       "      <td>MTSW4McQd7CbVtyjqoe9mw</td>\n",
       "      <td>St Honore Pastries</td>\n",
       "      <td>935 Race St</td>\n",
       "      <td>Philadelphia</td>\n",
       "      <td>PA</td>\n",
       "      <td>19107</td>\n",
       "      <td>80</td>\n",
       "      <td>1</td>\n",
       "      <td>Restaurants</td>\n",
       "    </tr>\n",
       "    <tr>\n",
       "      <th>1</th>\n",
       "      <td>CF33F8-E6oudUQ46HnavjQ</td>\n",
       "      <td>Sonic Drive-In</td>\n",
       "      <td>615 S Main St</td>\n",
       "      <td>Ashland City</td>\n",
       "      <td>TN</td>\n",
       "      <td>37015</td>\n",
       "      <td>6</td>\n",
       "      <td>1</td>\n",
       "      <td>Restaurants</td>\n",
       "    </tr>\n",
       "  </tbody>\n",
       "</table>\n",
       "</div>"
      ],
      "text/plain": [
       "              business_id                name        address          city  \\\n",
       "0  MTSW4McQd7CbVtyjqoe9mw  St Honore Pastries    935 Race St  Philadelphia   \n",
       "1  CF33F8-E6oudUQ46HnavjQ      Sonic Drive-In  615 S Main St  Ashland City   \n",
       "\n",
       "  state postal_code  review_count  is_open   categories  \n",
       "0    PA       19107            80        1  Restaurants  \n",
       "1    TN       37015             6        1  Restaurants  "
      ]
     },
     "execution_count": 19,
     "metadata": {},
     "output_type": "execute_result"
    }
   ],
   "source": [
    "resturants.head(2)"
   ]
  },
  {
   "cell_type": "code",
   "execution_count": 20,
   "id": "b265ab93",
   "metadata": {
    "scrolled": true
   },
   "outputs": [
    {
     "data": {
      "text/html": [
       "<div>\n",
       "<style scoped>\n",
       "    .dataframe tbody tr th:only-of-type {\n",
       "        vertical-align: middle;\n",
       "    }\n",
       "\n",
       "    .dataframe tbody tr th {\n",
       "        vertical-align: top;\n",
       "    }\n",
       "\n",
       "    .dataframe thead th {\n",
       "        text-align: right;\n",
       "    }\n",
       "</style>\n",
       "<table border=\"1\" class=\"dataframe\">\n",
       "  <thead>\n",
       "    <tr style=\"text-align: right;\">\n",
       "      <th></th>\n",
       "      <th>business_id</th>\n",
       "      <th>name</th>\n",
       "      <th>address</th>\n",
       "      <th>city</th>\n",
       "      <th>state</th>\n",
       "      <th>postal_code</th>\n",
       "      <th>review_count</th>\n",
       "      <th>is_open</th>\n",
       "      <th>categories</th>\n",
       "    </tr>\n",
       "  </thead>\n",
       "  <tbody>\n",
       "    <tr>\n",
       "      <th>0</th>\n",
       "      <td>x1mhq4IpWctQOBM06dU8vg</td>\n",
       "      <td>Diamond Hair Company</td>\n",
       "      <td>5324 W 16th St</td>\n",
       "      <td>Indianapolis</td>\n",
       "      <td>IN</td>\n",
       "      <td>46224</td>\n",
       "      <td>25</td>\n",
       "      <td>1</td>\n",
       "      <td>Beauty &amp; Spas</td>\n",
       "    </tr>\n",
       "    <tr>\n",
       "      <th>1</th>\n",
       "      <td>Kq51_lGAgAigqmENITTr-A</td>\n",
       "      <td>Bala Better Health</td>\n",
       "      <td>2 Bala Plz, Ste PL-11</td>\n",
       "      <td>Bala Cynwyd</td>\n",
       "      <td>PA</td>\n",
       "      <td>19004</td>\n",
       "      <td>13</td>\n",
       "      <td>1</td>\n",
       "      <td>Beauty &amp; Spas</td>\n",
       "    </tr>\n",
       "  </tbody>\n",
       "</table>\n",
       "</div>"
      ],
      "text/plain": [
       "              business_id                  name                address  \\\n",
       "0  x1mhq4IpWctQOBM06dU8vg  Diamond Hair Company         5324 W 16th St   \n",
       "1  Kq51_lGAgAigqmENITTr-A    Bala Better Health  2 Bala Plz, Ste PL-11   \n",
       "\n",
       "           city state postal_code  review_count  is_open     categories  \n",
       "0  Indianapolis    IN       46224            25        1  Beauty & Spas  \n",
       "1   Bala Cynwyd    PA       19004            13        1  Beauty & Spas  "
      ]
     },
     "execution_count": 20,
     "metadata": {},
     "output_type": "execute_result"
    }
   ],
   "source": [
    "beauty.head(2)"
   ]
  },
  {
   "cell_type": "code",
   "execution_count": 21,
   "id": "198ee4f0",
   "metadata": {
    "scrolled": false
   },
   "outputs": [
    {
     "data": {
      "text/html": [
       "<div>\n",
       "<style scoped>\n",
       "    .dataframe tbody tr th:only-of-type {\n",
       "        vertical-align: middle;\n",
       "    }\n",
       "\n",
       "    .dataframe tbody tr th {\n",
       "        vertical-align: top;\n",
       "    }\n",
       "\n",
       "    .dataframe thead th {\n",
       "        text-align: right;\n",
       "    }\n",
       "</style>\n",
       "<table border=\"1\" class=\"dataframe\">\n",
       "  <thead>\n",
       "    <tr style=\"text-align: right;\">\n",
       "      <th></th>\n",
       "      <th>business_id</th>\n",
       "      <th>name</th>\n",
       "      <th>address</th>\n",
       "      <th>city</th>\n",
       "      <th>state</th>\n",
       "      <th>postal_code</th>\n",
       "      <th>review_count</th>\n",
       "      <th>is_open</th>\n",
       "      <th>categories</th>\n",
       "    </tr>\n",
       "  </thead>\n",
       "  <tbody>\n",
       "    <tr>\n",
       "      <th>0</th>\n",
       "      <td>jaxMSoInw8Poo3XeMJt8lQ</td>\n",
       "      <td>Adams Dental</td>\n",
       "      <td>15 N Missouri Ave</td>\n",
       "      <td>Clearwater</td>\n",
       "      <td>FL</td>\n",
       "      <td>33755</td>\n",
       "      <td>10</td>\n",
       "      <td>1</td>\n",
       "      <td>Health &amp; Medical</td>\n",
       "    </tr>\n",
       "    <tr>\n",
       "      <th>1</th>\n",
       "      <td>Kq51_lGAgAigqmENITTr-A</td>\n",
       "      <td>Bala Better Health</td>\n",
       "      <td>2 Bala Plz, Ste PL-11</td>\n",
       "      <td>Bala Cynwyd</td>\n",
       "      <td>PA</td>\n",
       "      <td>19004</td>\n",
       "      <td>13</td>\n",
       "      <td>1</td>\n",
       "      <td>Health &amp; Medical</td>\n",
       "    </tr>\n",
       "  </tbody>\n",
       "</table>\n",
       "</div>"
      ],
      "text/plain": [
       "              business_id                name                address  \\\n",
       "0  jaxMSoInw8Poo3XeMJt8lQ        Adams Dental      15 N Missouri Ave   \n",
       "1  Kq51_lGAgAigqmENITTr-A  Bala Better Health  2 Bala Plz, Ste PL-11   \n",
       "\n",
       "          city state postal_code  review_count  is_open        categories  \n",
       "0   Clearwater    FL       33755            10        1  Health & Medical  \n",
       "1  Bala Cynwyd    PA       19004            13        1  Health & Medical  "
      ]
     },
     "execution_count": 21,
     "metadata": {},
     "output_type": "execute_result"
    }
   ],
   "source": [
    "medical.head(2)"
   ]
  },
  {
   "cell_type": "code",
   "execution_count": 22,
   "id": "101b93ec",
   "metadata": {
    "scrolled": false
   },
   "outputs": [
    {
     "data": {
      "text/html": [
       "<div>\n",
       "<style scoped>\n",
       "    .dataframe tbody tr th:only-of-type {\n",
       "        vertical-align: middle;\n",
       "    }\n",
       "\n",
       "    .dataframe tbody tr th {\n",
       "        vertical-align: top;\n",
       "    }\n",
       "\n",
       "    .dataframe thead th {\n",
       "        text-align: right;\n",
       "    }\n",
       "</style>\n",
       "<table border=\"1\" class=\"dataframe\">\n",
       "  <thead>\n",
       "    <tr style=\"text-align: right;\">\n",
       "      <th></th>\n",
       "      <th>business_id</th>\n",
       "      <th>name</th>\n",
       "      <th>address</th>\n",
       "      <th>city</th>\n",
       "      <th>state</th>\n",
       "      <th>postal_code</th>\n",
       "      <th>review_count</th>\n",
       "      <th>is_open</th>\n",
       "      <th>categories</th>\n",
       "    </tr>\n",
       "  </thead>\n",
       "  <tbody>\n",
       "    <tr>\n",
       "      <th>0</th>\n",
       "      <td>rBmpy_Y1UbBx8ggHlyb7hA</td>\n",
       "      <td>Arizona Truck Outfitters</td>\n",
       "      <td>625 N Stone Ave</td>\n",
       "      <td>Tucson</td>\n",
       "      <td>AZ</td>\n",
       "      <td>85705</td>\n",
       "      <td>10</td>\n",
       "      <td>1</td>\n",
       "      <td>Automotive</td>\n",
       "    </tr>\n",
       "    <tr>\n",
       "      <th>1</th>\n",
       "      <td>8wGISYjYkE2tSqn3cDMu8A</td>\n",
       "      <td>Nifty Car Rental</td>\n",
       "      <td>1241 Airline Dr</td>\n",
       "      <td>Kenner</td>\n",
       "      <td>LA</td>\n",
       "      <td>70062</td>\n",
       "      <td>14</td>\n",
       "      <td>1</td>\n",
       "      <td>Automotive</td>\n",
       "    </tr>\n",
       "  </tbody>\n",
       "</table>\n",
       "</div>"
      ],
      "text/plain": [
       "              business_id                      name          address    city  \\\n",
       "0  rBmpy_Y1UbBx8ggHlyb7hA  Arizona Truck Outfitters  625 N Stone Ave  Tucson   \n",
       "1  8wGISYjYkE2tSqn3cDMu8A          Nifty Car Rental  1241 Airline Dr  Kenner   \n",
       "\n",
       "  state postal_code  review_count  is_open  categories  \n",
       "0    AZ       85705            10        1  Automotive  \n",
       "1    LA       70062            14        1  Automotive  "
      ]
     },
     "execution_count": 22,
     "metadata": {},
     "output_type": "execute_result"
    }
   ],
   "source": [
    "automotive.head(2)"
   ]
  },
  {
   "cell_type": "code",
   "execution_count": 23,
   "id": "d779a9f3",
   "metadata": {
    "scrolled": true
   },
   "outputs": [
    {
     "data": {
      "text/html": [
       "<div>\n",
       "<style scoped>\n",
       "    .dataframe tbody tr th:only-of-type {\n",
       "        vertical-align: middle;\n",
       "    }\n",
       "\n",
       "    .dataframe tbody tr th {\n",
       "        vertical-align: top;\n",
       "    }\n",
       "\n",
       "    .dataframe thead th {\n",
       "        text-align: right;\n",
       "    }\n",
       "</style>\n",
       "<table border=\"1\" class=\"dataframe\">\n",
       "  <thead>\n",
       "    <tr style=\"text-align: right;\">\n",
       "      <th></th>\n",
       "      <th>business_id</th>\n",
       "      <th>name</th>\n",
       "      <th>address</th>\n",
       "      <th>city</th>\n",
       "      <th>state</th>\n",
       "      <th>postal_code</th>\n",
       "      <th>review_count</th>\n",
       "      <th>is_open</th>\n",
       "      <th>categories</th>\n",
       "    </tr>\n",
       "  </thead>\n",
       "  <tbody>\n",
       "    <tr>\n",
       "      <th>0</th>\n",
       "      <td>n_0UpQx1hsNbnPUSlodU8w</td>\n",
       "      <td>Famous Footwear</td>\n",
       "      <td>8522 Eager Road, Dierbergs Brentwood Point</td>\n",
       "      <td>Brentwood</td>\n",
       "      <td>MO</td>\n",
       "      <td>63144</td>\n",
       "      <td>13</td>\n",
       "      <td>1</td>\n",
       "      <td>Shopping</td>\n",
       "    </tr>\n",
       "    <tr>\n",
       "      <th>1</th>\n",
       "      <td>UJsufbvfyfONHeWdvAHKjA</td>\n",
       "      <td>Marshalls</td>\n",
       "      <td>21705 Village Lakes Sc Dr</td>\n",
       "      <td>Land O' Lakes</td>\n",
       "      <td>FL</td>\n",
       "      <td>34639</td>\n",
       "      <td>6</td>\n",
       "      <td>1</td>\n",
       "      <td>Shopping</td>\n",
       "    </tr>\n",
       "  </tbody>\n",
       "</table>\n",
       "</div>"
      ],
      "text/plain": [
       "              business_id             name  \\\n",
       "0  n_0UpQx1hsNbnPUSlodU8w  Famous Footwear   \n",
       "1  UJsufbvfyfONHeWdvAHKjA        Marshalls   \n",
       "\n",
       "                                      address           city state  \\\n",
       "0  8522 Eager Road, Dierbergs Brentwood Point      Brentwood    MO   \n",
       "1                   21705 Village Lakes Sc Dr  Land O' Lakes    FL   \n",
       "\n",
       "  postal_code  review_count  is_open categories  \n",
       "0       63144            13        1   Shopping  \n",
       "1       34639             6        1   Shopping  "
      ]
     },
     "execution_count": 23,
     "metadata": {},
     "output_type": "execute_result"
    }
   ],
   "source": [
    "shopping.head(2)"
   ]
  },
  {
   "cell_type": "code",
   "execution_count": 24,
   "id": "a1a671ef",
   "metadata": {},
   "outputs": [],
   "source": [
    "# Verify the dataframe size of each selected categoy by count the datframe index length\n",
    "def sample_size():\n",
    "    num_index0 = len(resturants)\n",
    "    num_index1 = len(beauty)\n",
    "    num_index2 = len(medical)\n",
    "    num_index3 = len(automotive)\n",
    "    num_index4 = len(shopping)\n",
    "    print('Dataset sample size for selected categories:')\n",
    "    print(f'Resturants - {num_index0}')\n",
    "    print(f'Beauty & Spas - {num_index1}')\n",
    "    print(f'Health & Medical - {num_index2}')\n",
    "    print(f'Automotive - {num_index3}')\n",
    "    print(f'Shopping - {num_index4}')"
   ]
  },
  {
   "cell_type": "markdown",
   "id": "c05874cd",
   "metadata": {},
   "source": [
    "### Aggregate selected business categories dataframes with customer's reviews dataset   "
   ]
  },
  {
   "cell_type": "code",
   "execution_count": 25,
   "id": "a06d88f3",
   "metadata": {
    "scrolled": false
   },
   "outputs": [
    {
     "name": "stdout",
     "output_type": "stream",
     "text": [
      "Dataset sample size for selected categories:\n",
      "Resturants - 35039\n",
      "Beauty & Spas - 12263\n",
      "Health & Medical - 11046\n",
      "Automotive - 9879\n",
      "Shopping - 20564\n"
     ]
    }
   ],
   "source": [
    "# Check the sample size for changes \n",
    "sample_size()"
   ]
  },
  {
   "cell_type": "markdown",
   "id": "2b9988cb",
   "metadata": {},
   "source": [
    "Load user reviews dataset and merge with each chosen business categories dataset using the business ID as the key."
   ]
  },
  {
   "cell_type": "code",
   "execution_count": 26,
   "id": "1fc22c55",
   "metadata": {},
   "outputs": [],
   "source": [
    "# Load reviews dataset\n",
    "reviews_json = 'RAW Data/JSON/yelp_academic_dataset_review.json'\n",
    "biz_reviews = pd.read_json(reviews_json, lines=True)"
   ]
  },
  {
   "cell_type": "markdown",
   "id": "d1c9049a",
   "metadata": {},
   "source": [
    "Optional: You can load reviews dataset in chunks to reduce resource usage and increase processing time using the following \n",
    "    \n",
    "    size = 1000000\n",
    "    review = pd.read_json(yelp_review_json, lines=True, chunksize=size)\n",
    "\n",
    "Each csv read will load 1 million rows of reviews dataset per chunk\n"
   ]
  },
  {
   "cell_type": "code",
   "execution_count": 27,
   "id": "418bd96b",
   "metadata": {
    "scrolled": true
   },
   "outputs": [
    {
     "data": {
      "text/html": [
       "<div>\n",
       "<style scoped>\n",
       "    .dataframe tbody tr th:only-of-type {\n",
       "        vertical-align: middle;\n",
       "    }\n",
       "\n",
       "    .dataframe tbody tr th {\n",
       "        vertical-align: top;\n",
       "    }\n",
       "\n",
       "    .dataframe thead th {\n",
       "        text-align: right;\n",
       "    }\n",
       "</style>\n",
       "<table border=\"1\" class=\"dataframe\">\n",
       "  <thead>\n",
       "    <tr style=\"text-align: right;\">\n",
       "      <th></th>\n",
       "      <th>review_id</th>\n",
       "      <th>user_id</th>\n",
       "      <th>business_id</th>\n",
       "      <th>stars</th>\n",
       "      <th>useful</th>\n",
       "      <th>funny</th>\n",
       "      <th>cool</th>\n",
       "      <th>text</th>\n",
       "      <th>date</th>\n",
       "    </tr>\n",
       "  </thead>\n",
       "  <tbody>\n",
       "    <tr>\n",
       "      <th>0</th>\n",
       "      <td>KU_O5udG6zpxOg-VcAEodg</td>\n",
       "      <td>mh_-eMZ6K5RLWhZyISBhwA</td>\n",
       "      <td>XQfwVwDr-v0ZS3_CbbE5Xw</td>\n",
       "      <td>3</td>\n",
       "      <td>0</td>\n",
       "      <td>0</td>\n",
       "      <td>0</td>\n",
       "      <td>If you decide to eat here, just be aware it is...</td>\n",
       "      <td>2018-07-07 22:09:11</td>\n",
       "    </tr>\n",
       "    <tr>\n",
       "      <th>1</th>\n",
       "      <td>BiTunyQ73aT9WBnpR9DZGw</td>\n",
       "      <td>OyoGAe7OKpv6SyGZT5g77Q</td>\n",
       "      <td>7ATYjTIgM3jUlt4UM3IypQ</td>\n",
       "      <td>5</td>\n",
       "      <td>1</td>\n",
       "      <td>0</td>\n",
       "      <td>1</td>\n",
       "      <td>I've taken a lot of spin classes over the year...</td>\n",
       "      <td>2012-01-03 15:28:18</td>\n",
       "    </tr>\n",
       "    <tr>\n",
       "      <th>2</th>\n",
       "      <td>saUsX_uimxRlCVr67Z4Jig</td>\n",
       "      <td>8g_iMtfSiwikVnbP2etR0A</td>\n",
       "      <td>YjUWPpI6HXG530lwP-fb2A</td>\n",
       "      <td>3</td>\n",
       "      <td>0</td>\n",
       "      <td>0</td>\n",
       "      <td>0</td>\n",
       "      <td>Family diner. Had the buffet. Eclectic assortm...</td>\n",
       "      <td>2014-02-05 20:30:30</td>\n",
       "    </tr>\n",
       "    <tr>\n",
       "      <th>3</th>\n",
       "      <td>AqPFMleE6RsU23_auESxiA</td>\n",
       "      <td>_7bHUi9Uuf5__HHc_Q8guQ</td>\n",
       "      <td>kxX2SOes4o-D3ZQBkiMRfA</td>\n",
       "      <td>5</td>\n",
       "      <td>1</td>\n",
       "      <td>0</td>\n",
       "      <td>1</td>\n",
       "      <td>Wow!  Yummy, different,  delicious.   Our favo...</td>\n",
       "      <td>2015-01-04 00:01:03</td>\n",
       "    </tr>\n",
       "    <tr>\n",
       "      <th>4</th>\n",
       "      <td>Sx8TMOWLNuJBWer-0pcmoA</td>\n",
       "      <td>bcjbaE6dDog4jkNY91ncLQ</td>\n",
       "      <td>e4Vwtrqf-wpJfwesgvdgxQ</td>\n",
       "      <td>4</td>\n",
       "      <td>1</td>\n",
       "      <td>0</td>\n",
       "      <td>1</td>\n",
       "      <td>Cute interior and owner (?) gave us tour of up...</td>\n",
       "      <td>2017-01-14 20:54:15</td>\n",
       "    </tr>\n",
       "  </tbody>\n",
       "</table>\n",
       "</div>"
      ],
      "text/plain": [
       "                review_id                 user_id             business_id  \\\n",
       "0  KU_O5udG6zpxOg-VcAEodg  mh_-eMZ6K5RLWhZyISBhwA  XQfwVwDr-v0ZS3_CbbE5Xw   \n",
       "1  BiTunyQ73aT9WBnpR9DZGw  OyoGAe7OKpv6SyGZT5g77Q  7ATYjTIgM3jUlt4UM3IypQ   \n",
       "2  saUsX_uimxRlCVr67Z4Jig  8g_iMtfSiwikVnbP2etR0A  YjUWPpI6HXG530lwP-fb2A   \n",
       "3  AqPFMleE6RsU23_auESxiA  _7bHUi9Uuf5__HHc_Q8guQ  kxX2SOes4o-D3ZQBkiMRfA   \n",
       "4  Sx8TMOWLNuJBWer-0pcmoA  bcjbaE6dDog4jkNY91ncLQ  e4Vwtrqf-wpJfwesgvdgxQ   \n",
       "\n",
       "   stars  useful  funny  cool  \\\n",
       "0      3       0      0     0   \n",
       "1      5       1      0     1   \n",
       "2      3       0      0     0   \n",
       "3      5       1      0     1   \n",
       "4      4       1      0     1   \n",
       "\n",
       "                                                text                date  \n",
       "0  If you decide to eat here, just be aware it is... 2018-07-07 22:09:11  \n",
       "1  I've taken a lot of spin classes over the year... 2012-01-03 15:28:18  \n",
       "2  Family diner. Had the buffet. Eclectic assortm... 2014-02-05 20:30:30  \n",
       "3  Wow!  Yummy, different,  delicious.   Our favo... 2015-01-04 00:01:03  \n",
       "4  Cute interior and owner (?) gave us tour of up... 2017-01-14 20:54:15  "
      ]
     },
     "execution_count": 27,
     "metadata": {},
     "output_type": "execute_result"
    }
   ],
   "source": [
    "# Preview the loaded reviews dataset \n",
    "biz_reviews.head()"
   ]
  },
  {
   "cell_type": "markdown",
   "id": "95db0b43",
   "metadata": {},
   "source": [
    "### Merge the reviews dataset with each selected category dataframes"
   ]
  },
  {
   "cell_type": "code",
   "execution_count": 28,
   "id": "0ec53827",
   "metadata": {},
   "outputs": [],
   "source": [
    "# Merge selected datasets by business id \n",
    "# Note: Running all 5 dataframe will use considerable amount of resource so wait for the process to finish\n",
    "restuarant_merge = resturants.merge(biz_reviews, on='business_id', how='inner')\n",
    "beauty_merge = beauty.merge(biz_reviews, on='business_id', how='inner')\n",
    "medical_merge = medical.merge(biz_reviews, on='business_id', how='inner')\n",
    "automotive_merge = automotive.merge(biz_reviews, on='business_id', how='inner')\n",
    "shopping_merge = shopping.merge(biz_reviews, on='business_id', how='inner')"
   ]
  },
  {
   "cell_type": "markdown",
   "id": "fb6480b9",
   "metadata": {},
   "source": [
    "Preview the merged dataframes"
   ]
  },
  {
   "cell_type": "code",
   "execution_count": 29,
   "id": "b0de937a",
   "metadata": {},
   "outputs": [
    {
     "data": {
      "text/html": [
       "<div>\n",
       "<style scoped>\n",
       "    .dataframe tbody tr th:only-of-type {\n",
       "        vertical-align: middle;\n",
       "    }\n",
       "\n",
       "    .dataframe tbody tr th {\n",
       "        vertical-align: top;\n",
       "    }\n",
       "\n",
       "    .dataframe thead th {\n",
       "        text-align: right;\n",
       "    }\n",
       "</style>\n",
       "<table border=\"1\" class=\"dataframe\">\n",
       "  <thead>\n",
       "    <tr style=\"text-align: right;\">\n",
       "      <th></th>\n",
       "      <th>business_id</th>\n",
       "      <th>name</th>\n",
       "      <th>address</th>\n",
       "      <th>city</th>\n",
       "      <th>state</th>\n",
       "      <th>postal_code</th>\n",
       "      <th>review_count</th>\n",
       "      <th>is_open</th>\n",
       "      <th>categories</th>\n",
       "      <th>review_id</th>\n",
       "      <th>user_id</th>\n",
       "      <th>stars</th>\n",
       "      <th>useful</th>\n",
       "      <th>funny</th>\n",
       "      <th>cool</th>\n",
       "      <th>text</th>\n",
       "      <th>date</th>\n",
       "    </tr>\n",
       "  </thead>\n",
       "  <tbody>\n",
       "    <tr>\n",
       "      <th>0</th>\n",
       "      <td>MTSW4McQd7CbVtyjqoe9mw</td>\n",
       "      <td>St Honore Pastries</td>\n",
       "      <td>935 Race St</td>\n",
       "      <td>Philadelphia</td>\n",
       "      <td>PA</td>\n",
       "      <td>19107</td>\n",
       "      <td>80</td>\n",
       "      <td>1</td>\n",
       "      <td>Restaurants</td>\n",
       "      <td>BXQcBN0iAi1lAUxibGLFzA</td>\n",
       "      <td>6_SpY41LIHZuIaiDs5FMKA</td>\n",
       "      <td>4</td>\n",
       "      <td>0</td>\n",
       "      <td>0</td>\n",
       "      <td>1</td>\n",
       "      <td>This is nice little Chinese bakery in the hear...</td>\n",
       "      <td>2014-05-26 01:09:53</td>\n",
       "    </tr>\n",
       "    <tr>\n",
       "      <th>1</th>\n",
       "      <td>MTSW4McQd7CbVtyjqoe9mw</td>\n",
       "      <td>St Honore Pastries</td>\n",
       "      <td>935 Race St</td>\n",
       "      <td>Philadelphia</td>\n",
       "      <td>PA</td>\n",
       "      <td>19107</td>\n",
       "      <td>80</td>\n",
       "      <td>1</td>\n",
       "      <td>Restaurants</td>\n",
       "      <td>uduvUCvi9w3T2bSGivCfXg</td>\n",
       "      <td>tCXElwhzekJEH6QJe3xs7Q</td>\n",
       "      <td>4</td>\n",
       "      <td>3</td>\n",
       "      <td>1</td>\n",
       "      <td>2</td>\n",
       "      <td>This is the bakery I usually go to in Chinatow...</td>\n",
       "      <td>2013-10-05 15:19:06</td>\n",
       "    </tr>\n",
       "  </tbody>\n",
       "</table>\n",
       "</div>"
      ],
      "text/plain": [
       "              business_id                name      address          city  \\\n",
       "0  MTSW4McQd7CbVtyjqoe9mw  St Honore Pastries  935 Race St  Philadelphia   \n",
       "1  MTSW4McQd7CbVtyjqoe9mw  St Honore Pastries  935 Race St  Philadelphia   \n",
       "\n",
       "  state postal_code  review_count  is_open   categories  \\\n",
       "0    PA       19107            80        1  Restaurants   \n",
       "1    PA       19107            80        1  Restaurants   \n",
       "\n",
       "                review_id                 user_id  stars  useful  funny  cool  \\\n",
       "0  BXQcBN0iAi1lAUxibGLFzA  6_SpY41LIHZuIaiDs5FMKA      4       0      0     1   \n",
       "1  uduvUCvi9w3T2bSGivCfXg  tCXElwhzekJEH6QJe3xs7Q      4       3      1     2   \n",
       "\n",
       "                                                text                date  \n",
       "0  This is nice little Chinese bakery in the hear... 2014-05-26 01:09:53  \n",
       "1  This is the bakery I usually go to in Chinatow... 2013-10-05 15:19:06  "
      ]
     },
     "execution_count": 29,
     "metadata": {},
     "output_type": "execute_result"
    }
   ],
   "source": [
    "restuarant_merge.head(2)"
   ]
  },
  {
   "cell_type": "code",
   "execution_count": 30,
   "id": "fa50805c",
   "metadata": {},
   "outputs": [
    {
     "data": {
      "text/html": [
       "<div>\n",
       "<style scoped>\n",
       "    .dataframe tbody tr th:only-of-type {\n",
       "        vertical-align: middle;\n",
       "    }\n",
       "\n",
       "    .dataframe tbody tr th {\n",
       "        vertical-align: top;\n",
       "    }\n",
       "\n",
       "    .dataframe thead th {\n",
       "        text-align: right;\n",
       "    }\n",
       "</style>\n",
       "<table border=\"1\" class=\"dataframe\">\n",
       "  <thead>\n",
       "    <tr style=\"text-align: right;\">\n",
       "      <th></th>\n",
       "      <th>business_id</th>\n",
       "      <th>name</th>\n",
       "      <th>address</th>\n",
       "      <th>city</th>\n",
       "      <th>state</th>\n",
       "      <th>postal_code</th>\n",
       "      <th>review_count</th>\n",
       "      <th>is_open</th>\n",
       "      <th>categories</th>\n",
       "      <th>review_id</th>\n",
       "      <th>user_id</th>\n",
       "      <th>stars</th>\n",
       "      <th>useful</th>\n",
       "      <th>funny</th>\n",
       "      <th>cool</th>\n",
       "      <th>text</th>\n",
       "      <th>date</th>\n",
       "    </tr>\n",
       "  </thead>\n",
       "  <tbody>\n",
       "    <tr>\n",
       "      <th>0</th>\n",
       "      <td>x1mhq4IpWctQOBM06dU8vg</td>\n",
       "      <td>Diamond Hair Company</td>\n",
       "      <td>5324 W 16th St</td>\n",
       "      <td>Indianapolis</td>\n",
       "      <td>IN</td>\n",
       "      <td>46224</td>\n",
       "      <td>25</td>\n",
       "      <td>1</td>\n",
       "      <td>Beauty &amp; Spas</td>\n",
       "      <td>eOpTUNV-V_RD1AVw4kCBag</td>\n",
       "      <td>3rm8KRUzGZ7vw-iKV_ikmQ</td>\n",
       "      <td>2</td>\n",
       "      <td>8</td>\n",
       "      <td>0</td>\n",
       "      <td>0</td>\n",
       "      <td>Love the hair but it sheds like crazy! Literal...</td>\n",
       "      <td>2016-11-30 21:40:13</td>\n",
       "    </tr>\n",
       "    <tr>\n",
       "      <th>1</th>\n",
       "      <td>x1mhq4IpWctQOBM06dU8vg</td>\n",
       "      <td>Diamond Hair Company</td>\n",
       "      <td>5324 W 16th St</td>\n",
       "      <td>Indianapolis</td>\n",
       "      <td>IN</td>\n",
       "      <td>46224</td>\n",
       "      <td>25</td>\n",
       "      <td>1</td>\n",
       "      <td>Beauty &amp; Spas</td>\n",
       "      <td>wiMDMm80ueBzgxUXbsJ2Lw</td>\n",
       "      <td>NHiHTomwzFaLwO289clKFA</td>\n",
       "      <td>1</td>\n",
       "      <td>1</td>\n",
       "      <td>0</td>\n",
       "      <td>0</td>\n",
       "      <td>All the stylist are trash!! They do basic ass\"...</td>\n",
       "      <td>2018-01-23 07:53:45</td>\n",
       "    </tr>\n",
       "  </tbody>\n",
       "</table>\n",
       "</div>"
      ],
      "text/plain": [
       "              business_id                  name         address          city  \\\n",
       "0  x1mhq4IpWctQOBM06dU8vg  Diamond Hair Company  5324 W 16th St  Indianapolis   \n",
       "1  x1mhq4IpWctQOBM06dU8vg  Diamond Hair Company  5324 W 16th St  Indianapolis   \n",
       "\n",
       "  state postal_code  review_count  is_open     categories  \\\n",
       "0    IN       46224            25        1  Beauty & Spas   \n",
       "1    IN       46224            25        1  Beauty & Spas   \n",
       "\n",
       "                review_id                 user_id  stars  useful  funny  cool  \\\n",
       "0  eOpTUNV-V_RD1AVw4kCBag  3rm8KRUzGZ7vw-iKV_ikmQ      2       8      0     0   \n",
       "1  wiMDMm80ueBzgxUXbsJ2Lw  NHiHTomwzFaLwO289clKFA      1       1      0     0   \n",
       "\n",
       "                                                text                date  \n",
       "0  Love the hair but it sheds like crazy! Literal... 2016-11-30 21:40:13  \n",
       "1  All the stylist are trash!! They do basic ass\"... 2018-01-23 07:53:45  "
      ]
     },
     "execution_count": 30,
     "metadata": {},
     "output_type": "execute_result"
    }
   ],
   "source": [
    "beauty_merge.head(2)"
   ]
  },
  {
   "cell_type": "code",
   "execution_count": 31,
   "id": "c4e75ba3",
   "metadata": {
    "scrolled": true
   },
   "outputs": [
    {
     "data": {
      "text/html": [
       "<div>\n",
       "<style scoped>\n",
       "    .dataframe tbody tr th:only-of-type {\n",
       "        vertical-align: middle;\n",
       "    }\n",
       "\n",
       "    .dataframe tbody tr th {\n",
       "        vertical-align: top;\n",
       "    }\n",
       "\n",
       "    .dataframe thead th {\n",
       "        text-align: right;\n",
       "    }\n",
       "</style>\n",
       "<table border=\"1\" class=\"dataframe\">\n",
       "  <thead>\n",
       "    <tr style=\"text-align: right;\">\n",
       "      <th></th>\n",
       "      <th>business_id</th>\n",
       "      <th>name</th>\n",
       "      <th>address</th>\n",
       "      <th>city</th>\n",
       "      <th>state</th>\n",
       "      <th>postal_code</th>\n",
       "      <th>review_count</th>\n",
       "      <th>is_open</th>\n",
       "      <th>categories</th>\n",
       "      <th>review_id</th>\n",
       "      <th>user_id</th>\n",
       "      <th>stars</th>\n",
       "      <th>useful</th>\n",
       "      <th>funny</th>\n",
       "      <th>cool</th>\n",
       "      <th>text</th>\n",
       "      <th>date</th>\n",
       "    </tr>\n",
       "  </thead>\n",
       "  <tbody>\n",
       "    <tr>\n",
       "      <th>0</th>\n",
       "      <td>jaxMSoInw8Poo3XeMJt8lQ</td>\n",
       "      <td>Adams Dental</td>\n",
       "      <td>15 N Missouri Ave</td>\n",
       "      <td>Clearwater</td>\n",
       "      <td>FL</td>\n",
       "      <td>33755</td>\n",
       "      <td>10</td>\n",
       "      <td>1</td>\n",
       "      <td>Health &amp; Medical</td>\n",
       "      <td>FBXkfsPAHkDjCzYUBnHm-A</td>\n",
       "      <td>ZvmZM7LBzaYbpznpHlTANA</td>\n",
       "      <td>5</td>\n",
       "      <td>0</td>\n",
       "      <td>0</td>\n",
       "      <td>0</td>\n",
       "      <td>Why 5 stars?\\n\\nThis office does it the right ...</td>\n",
       "      <td>2017-09-21 18:47:03</td>\n",
       "    </tr>\n",
       "    <tr>\n",
       "      <th>1</th>\n",
       "      <td>jaxMSoInw8Poo3XeMJt8lQ</td>\n",
       "      <td>Adams Dental</td>\n",
       "      <td>15 N Missouri Ave</td>\n",
       "      <td>Clearwater</td>\n",
       "      <td>FL</td>\n",
       "      <td>33755</td>\n",
       "      <td>10</td>\n",
       "      <td>1</td>\n",
       "      <td>Health &amp; Medical</td>\n",
       "      <td>cF4KJL9YQj61ZOLF6WsI7Q</td>\n",
       "      <td>fpBGav2sf9d1UVkSch-6Rw</td>\n",
       "      <td>5</td>\n",
       "      <td>0</td>\n",
       "      <td>0</td>\n",
       "      <td>0</td>\n",
       "      <td>Dr Pam is both my husband's and my dentist, an...</td>\n",
       "      <td>2016-07-17 15:55:41</td>\n",
       "    </tr>\n",
       "  </tbody>\n",
       "</table>\n",
       "</div>"
      ],
      "text/plain": [
       "              business_id          name            address        city state  \\\n",
       "0  jaxMSoInw8Poo3XeMJt8lQ  Adams Dental  15 N Missouri Ave  Clearwater    FL   \n",
       "1  jaxMSoInw8Poo3XeMJt8lQ  Adams Dental  15 N Missouri Ave  Clearwater    FL   \n",
       "\n",
       "  postal_code  review_count  is_open        categories  \\\n",
       "0       33755            10        1  Health & Medical   \n",
       "1       33755            10        1  Health & Medical   \n",
       "\n",
       "                review_id                 user_id  stars  useful  funny  cool  \\\n",
       "0  FBXkfsPAHkDjCzYUBnHm-A  ZvmZM7LBzaYbpznpHlTANA      5       0      0     0   \n",
       "1  cF4KJL9YQj61ZOLF6WsI7Q  fpBGav2sf9d1UVkSch-6Rw      5       0      0     0   \n",
       "\n",
       "                                                text                date  \n",
       "0  Why 5 stars?\\n\\nThis office does it the right ... 2017-09-21 18:47:03  \n",
       "1  Dr Pam is both my husband's and my dentist, an... 2016-07-17 15:55:41  "
      ]
     },
     "execution_count": 31,
     "metadata": {},
     "output_type": "execute_result"
    }
   ],
   "source": [
    "medical_merge.head(2)"
   ]
  },
  {
   "cell_type": "code",
   "execution_count": 32,
   "id": "9e67aebc",
   "metadata": {},
   "outputs": [
    {
     "data": {
      "text/html": [
       "<div>\n",
       "<style scoped>\n",
       "    .dataframe tbody tr th:only-of-type {\n",
       "        vertical-align: middle;\n",
       "    }\n",
       "\n",
       "    .dataframe tbody tr th {\n",
       "        vertical-align: top;\n",
       "    }\n",
       "\n",
       "    .dataframe thead th {\n",
       "        text-align: right;\n",
       "    }\n",
       "</style>\n",
       "<table border=\"1\" class=\"dataframe\">\n",
       "  <thead>\n",
       "    <tr style=\"text-align: right;\">\n",
       "      <th></th>\n",
       "      <th>business_id</th>\n",
       "      <th>name</th>\n",
       "      <th>address</th>\n",
       "      <th>city</th>\n",
       "      <th>state</th>\n",
       "      <th>postal_code</th>\n",
       "      <th>review_count</th>\n",
       "      <th>is_open</th>\n",
       "      <th>categories</th>\n",
       "      <th>review_id</th>\n",
       "      <th>user_id</th>\n",
       "      <th>stars</th>\n",
       "      <th>useful</th>\n",
       "      <th>funny</th>\n",
       "      <th>cool</th>\n",
       "      <th>text</th>\n",
       "      <th>date</th>\n",
       "    </tr>\n",
       "  </thead>\n",
       "  <tbody>\n",
       "    <tr>\n",
       "      <th>0</th>\n",
       "      <td>rBmpy_Y1UbBx8ggHlyb7hA</td>\n",
       "      <td>Arizona Truck Outfitters</td>\n",
       "      <td>625 N Stone Ave</td>\n",
       "      <td>Tucson</td>\n",
       "      <td>AZ</td>\n",
       "      <td>85705</td>\n",
       "      <td>10</td>\n",
       "      <td>1</td>\n",
       "      <td>Automotive</td>\n",
       "      <td>wSbZ7KMEIkyFuvEKuHgZ3Q</td>\n",
       "      <td>Grp5mXrdfv49MpoXoraIdg</td>\n",
       "      <td>5</td>\n",
       "      <td>0</td>\n",
       "      <td>0</td>\n",
       "      <td>1</td>\n",
       "      <td>I went in to get shocks for my shell and not o...</td>\n",
       "      <td>2018-02-03 21:57:47</td>\n",
       "    </tr>\n",
       "    <tr>\n",
       "      <th>1</th>\n",
       "      <td>rBmpy_Y1UbBx8ggHlyb7hA</td>\n",
       "      <td>Arizona Truck Outfitters</td>\n",
       "      <td>625 N Stone Ave</td>\n",
       "      <td>Tucson</td>\n",
       "      <td>AZ</td>\n",
       "      <td>85705</td>\n",
       "      <td>10</td>\n",
       "      <td>1</td>\n",
       "      <td>Automotive</td>\n",
       "      <td>IurtlGAYpuaiZ2NZWNPRBw</td>\n",
       "      <td>ztgVL0NPadoUwCO9MWeUUQ</td>\n",
       "      <td>5</td>\n",
       "      <td>0</td>\n",
       "      <td>0</td>\n",
       "      <td>0</td>\n",
       "      <td>Ive been buying shells from these guys for so ...</td>\n",
       "      <td>2018-08-22 14:12:06</td>\n",
       "    </tr>\n",
       "  </tbody>\n",
       "</table>\n",
       "</div>"
      ],
      "text/plain": [
       "              business_id                      name          address    city  \\\n",
       "0  rBmpy_Y1UbBx8ggHlyb7hA  Arizona Truck Outfitters  625 N Stone Ave  Tucson   \n",
       "1  rBmpy_Y1UbBx8ggHlyb7hA  Arizona Truck Outfitters  625 N Stone Ave  Tucson   \n",
       "\n",
       "  state postal_code  review_count  is_open  categories  \\\n",
       "0    AZ       85705            10        1  Automotive   \n",
       "1    AZ       85705            10        1  Automotive   \n",
       "\n",
       "                review_id                 user_id  stars  useful  funny  cool  \\\n",
       "0  wSbZ7KMEIkyFuvEKuHgZ3Q  Grp5mXrdfv49MpoXoraIdg      5       0      0     1   \n",
       "1  IurtlGAYpuaiZ2NZWNPRBw  ztgVL0NPadoUwCO9MWeUUQ      5       0      0     0   \n",
       "\n",
       "                                                text                date  \n",
       "0  I went in to get shocks for my shell and not o... 2018-02-03 21:57:47  \n",
       "1  Ive been buying shells from these guys for so ... 2018-08-22 14:12:06  "
      ]
     },
     "execution_count": 32,
     "metadata": {},
     "output_type": "execute_result"
    }
   ],
   "source": [
    "automotive_merge.head(2)"
   ]
  },
  {
   "cell_type": "code",
   "execution_count": 33,
   "id": "de158639",
   "metadata": {
    "scrolled": false
   },
   "outputs": [
    {
     "data": {
      "text/html": [
       "<div>\n",
       "<style scoped>\n",
       "    .dataframe tbody tr th:only-of-type {\n",
       "        vertical-align: middle;\n",
       "    }\n",
       "\n",
       "    .dataframe tbody tr th {\n",
       "        vertical-align: top;\n",
       "    }\n",
       "\n",
       "    .dataframe thead th {\n",
       "        text-align: right;\n",
       "    }\n",
       "</style>\n",
       "<table border=\"1\" class=\"dataframe\">\n",
       "  <thead>\n",
       "    <tr style=\"text-align: right;\">\n",
       "      <th></th>\n",
       "      <th>business_id</th>\n",
       "      <th>name</th>\n",
       "      <th>address</th>\n",
       "      <th>city</th>\n",
       "      <th>state</th>\n",
       "      <th>postal_code</th>\n",
       "      <th>review_count</th>\n",
       "      <th>is_open</th>\n",
       "      <th>categories</th>\n",
       "      <th>review_id</th>\n",
       "      <th>user_id</th>\n",
       "      <th>stars</th>\n",
       "      <th>useful</th>\n",
       "      <th>funny</th>\n",
       "      <th>cool</th>\n",
       "      <th>text</th>\n",
       "      <th>date</th>\n",
       "    </tr>\n",
       "  </thead>\n",
       "  <tbody>\n",
       "    <tr>\n",
       "      <th>0</th>\n",
       "      <td>n_0UpQx1hsNbnPUSlodU8w</td>\n",
       "      <td>Famous Footwear</td>\n",
       "      <td>8522 Eager Road, Dierbergs Brentwood Point</td>\n",
       "      <td>Brentwood</td>\n",
       "      <td>MO</td>\n",
       "      <td>63144</td>\n",
       "      <td>13</td>\n",
       "      <td>1</td>\n",
       "      <td>Shopping</td>\n",
       "      <td>e_PZZ0m2sEG9UovGRxdZRQ</td>\n",
       "      <td>dT6O_rV9DWYS-zHXhA6S6w</td>\n",
       "      <td>4</td>\n",
       "      <td>3</td>\n",
       "      <td>2</td>\n",
       "      <td>2</td>\n",
       "      <td>This has become my go to place for shoes.  I a...</td>\n",
       "      <td>2015-12-06 16:46:43</td>\n",
       "    </tr>\n",
       "    <tr>\n",
       "      <th>1</th>\n",
       "      <td>n_0UpQx1hsNbnPUSlodU8w</td>\n",
       "      <td>Famous Footwear</td>\n",
       "      <td>8522 Eager Road, Dierbergs Brentwood Point</td>\n",
       "      <td>Brentwood</td>\n",
       "      <td>MO</td>\n",
       "      <td>63144</td>\n",
       "      <td>13</td>\n",
       "      <td>1</td>\n",
       "      <td>Shopping</td>\n",
       "      <td>WNv6UCHTmce7wgImLKP4sg</td>\n",
       "      <td>AAYvaNRQ0TD_2Lpo-wFOUA</td>\n",
       "      <td>4</td>\n",
       "      <td>3</td>\n",
       "      <td>2</td>\n",
       "      <td>1</td>\n",
       "      <td>Oh, I do enjoy Famous Footwear. \\n\\nThe occasi...</td>\n",
       "      <td>2016-03-20 21:52:13</td>\n",
       "    </tr>\n",
       "  </tbody>\n",
       "</table>\n",
       "</div>"
      ],
      "text/plain": [
       "              business_id             name  \\\n",
       "0  n_0UpQx1hsNbnPUSlodU8w  Famous Footwear   \n",
       "1  n_0UpQx1hsNbnPUSlodU8w  Famous Footwear   \n",
       "\n",
       "                                      address       city state postal_code  \\\n",
       "0  8522 Eager Road, Dierbergs Brentwood Point  Brentwood    MO       63144   \n",
       "1  8522 Eager Road, Dierbergs Brentwood Point  Brentwood    MO       63144   \n",
       "\n",
       "   review_count  is_open categories               review_id  \\\n",
       "0            13        1   Shopping  e_PZZ0m2sEG9UovGRxdZRQ   \n",
       "1            13        1   Shopping  WNv6UCHTmce7wgImLKP4sg   \n",
       "\n",
       "                  user_id  stars  useful  funny  cool  \\\n",
       "0  dT6O_rV9DWYS-zHXhA6S6w      4       3      2     2   \n",
       "1  AAYvaNRQ0TD_2Lpo-wFOUA      4       3      2     1   \n",
       "\n",
       "                                                text                date  \n",
       "0  This has become my go to place for shoes.  I a... 2015-12-06 16:46:43  \n",
       "1  Oh, I do enjoy Famous Footwear. \\n\\nThe occasi... 2016-03-20 21:52:13  "
      ]
     },
     "execution_count": 33,
     "metadata": {},
     "output_type": "execute_result"
    }
   ],
   "source": [
    "shopping_merge.head(2)"
   ]
  },
  {
   "cell_type": "markdown",
   "id": "065eec01",
   "metadata": {},
   "source": [
    "### Explore Selected businesses categories datasets sample sizes"
   ]
  },
  {
   "cell_type": "code",
   "execution_count": 34,
   "id": "98d7960e",
   "metadata": {},
   "outputs": [],
   "source": [
    "# Create a function to quickly explore dataframe sample size\n",
    "def revsample_size():\n",
    "    num_indexr = len(restuarant_merge)\n",
    "    num_indexb = len(beauty_merge)\n",
    "    num_indexm = len(medical_merge)\n",
    "    num_indexa = len(automotive_merge)\n",
    "    num_indexs = len(shopping_merge)\n",
    "    print('The sample size for merged dataframes are:')\n",
    "    print(f'Resturants - {num_indexr}')\n",
    "    print(f'Beauty & Spas - {num_indexb}')\n",
    "    print(f'Health & Medical - {num_indexm}')\n",
    "    print(f'Automotive - {num_indexa}')\n",
    "    print(f'Shopping - {num_indexs}')"
   ]
  },
  {
   "cell_type": "code",
   "execution_count": 35,
   "id": "7f24d832",
   "metadata": {},
   "outputs": [
    {
     "name": "stdout",
     "output_type": "stream",
     "text": [
      "The sample size for merged dataframes are:\n",
      "Resturants - 3777208\n",
      "Beauty & Spas - 332591\n",
      "Health & Medical - 183977\n",
      "Automotive - 224280\n",
      "Shopping - 484561\n"
     ]
    }
   ],
   "source": [
    "revsample_size()"
   ]
  },
  {
   "cell_type": "markdown",
   "id": "420bc2f0",
   "metadata": {},
   "source": [
    "### Select 5,000 random sample from each category, wrangle, clean and combine them into a single dataframe"
   ]
  },
  {
   "cell_type": "code",
   "execution_count": 36,
   "id": "b8d2db01",
   "metadata": {},
   "outputs": [],
   "source": [
    "# Drop all empty cells or rows that contain empty cells in the dataframes\n",
    "restuarant_merge.dropna(inplace=True)\n",
    "beauty_merge.dropna(inplace=True)\n",
    "medical_merge.dropna(inplace=True)\n",
    "automotive_merge.dropna(inplace=True)\n",
    "shopping_merge.dropna(inplace=True)"
   ]
  },
  {
   "cell_type": "markdown",
   "id": "fd9b933a",
   "metadata": {},
   "source": [
    "### Select 25,000 random samples"
   ]
  },
  {
   "cell_type": "markdown",
   "id": "b7f4b4c4",
   "metadata": {},
   "source": [
    "Why select 25,000 ramdom sample?\n",
    "\n",
    "1. Margin of Error: With a sample of 25,000, we can estimate confidence intervals and margins of error for your findings, which can provide a sense of the precision of your results.\n",
    "\n",
    "2. Scope of Analysis: The specific goals of the data analysis matter. This research objectives are modest and do not require a high level of granularity, a sample of 25,000 will suffice.\n",
    "\n",
    "3. Exploratory Analysis: For exploratory data analysis and our initial investigations, a sample size of 25,000 helps us identify trends, patterns, and potential areas of interest."
   ]
  },
  {
   "cell_type": "markdown",
   "id": "4a90edd8",
   "metadata": {},
   "source": [
    "To select 5,000 random sample size from each dataframe, we first assign the merged dataframes as a list to a variable 'data'. Then use a for loop to iterate through all 5 dataframes in the data variable. Afterwards select random samples from each dataframe. Using the .sample() to randomly sample rows or elements from the dataframea. This method allows us to select a specified number of random elements from the data and set random_state for reproducibility. Here the 'n' parameter specifies the number of random samples we want to select. whihc was stored in the variable nSample. By the selected random rows will not n=be selected twice hence we have not used replace=False parameter. However because we want to set a seed for the random rows generator. Setting a random_state=42 value ensures that we get the same random sample every time we run the code with the same seed. This is useful for reproducibility.Then finally we append the random sample 'sample_data' to the rand_sample [] list."
   ]
  },
  {
   "cell_type": "code",
   "execution_count": 37,
   "id": "939cf4ae",
   "metadata": {},
   "outputs": [],
   "source": [
    "nSample = 5000 # random sample size\n",
    "rand_samples = [] # empty list to store each random sample\n",
    "dataframes = [restuarant_merge,beauty_merge,medical_merge,automotive_merge,shopping_merge] \n",
    "for data in dataframes: \n",
    "    sample_data = data.sample(n=nSample, random_state=42) \n",
    "    rand_samples.append(sample_data) "
   ]
  },
  {
   "cell_type": "code",
   "execution_count": 38,
   "id": "f5973b6d",
   "metadata": {},
   "outputs": [
    {
     "data": {
      "text/plain": [
       "'\\nAlternatively you can use reduce the code lines by using the following for loop for quicker processing.  \\n\\nfor data in [restuarant_merge,beauty_merge,medical_merge,automotive_merge,shopping_merge]: \\n    sample = data.nSample(n=nSample, randome_state=42) # in this loop use sample data dataframe\\n    rand_samples.append(sample)\\n   \\n'"
      ]
     },
     "execution_count": 38,
     "metadata": {},
     "output_type": "execute_result"
    }
   ],
   "source": [
    "\"\"\"\n",
    "Alternatively you can use reduce the code lines by using the following for loop for quicker processing.  \n",
    "\n",
    "for data in [restuarant_merge,beauty_merge,medical_merge,automotive_merge,shopping_merge]: \n",
    "    sample = data.nSample(n=nSample, randome_state=42) # in this loop use sample data dataframe\n",
    "    rand_samples.append(sample)\n",
    "   \n",
    "\"\"\""
   ]
  },
  {
   "cell_type": "markdown",
   "id": "1d9a51b1",
   "metadata": {},
   "source": [
    "### Wrangle genrated random samples into a new dataframe"
   ]
  },
  {
   "cell_type": "code",
   "execution_count": 39,
   "id": "cb0a9c21",
   "metadata": {},
   "outputs": [],
   "source": [
    "# Wrangle random sample into a single dataframe and reset index. \n",
    "biz_selected = pd.concat(rand_samples, ignore_index=True)"
   ]
  },
  {
   "cell_type": "code",
   "execution_count": 40,
   "id": "7e0b2dbd",
   "metadata": {},
   "outputs": [
    {
     "name": "stdout",
     "output_type": "stream",
     "text": [
      "<class 'pandas.core.frame.DataFrame'>\n",
      "RangeIndex: 25000 entries, 0 to 24999\n",
      "Data columns (total 17 columns):\n",
      " #   Column        Non-Null Count  Dtype         \n",
      "---  ------        --------------  -----         \n",
      " 0   business_id   25000 non-null  object        \n",
      " 1   name          25000 non-null  object        \n",
      " 2   address       25000 non-null  object        \n",
      " 3   city          25000 non-null  object        \n",
      " 4   state         25000 non-null  object        \n",
      " 5   postal_code   25000 non-null  object        \n",
      " 6   review_count  25000 non-null  int64         \n",
      " 7   is_open       25000 non-null  int64         \n",
      " 8   categories    25000 non-null  object        \n",
      " 9   review_id     25000 non-null  object        \n",
      " 10  user_id       25000 non-null  object        \n",
      " 11  stars         25000 non-null  int64         \n",
      " 12  useful        25000 non-null  int64         \n",
      " 13  funny         25000 non-null  int64         \n",
      " 14  cool          25000 non-null  int64         \n",
      " 15  text          25000 non-null  object        \n",
      " 16  date          25000 non-null  datetime64[ns]\n",
      "dtypes: datetime64[ns](1), int64(6), object(10)\n",
      "memory usage: 3.2+ MB\n"
     ]
    }
   ],
   "source": [
    "# Check the wrangled dataframe info to verify dataframe fields are consistent with merged data\n",
    "biz_selected.info()"
   ]
  },
  {
   "cell_type": "code",
   "execution_count": 41,
   "id": "05d54cbe",
   "metadata": {},
   "outputs": [],
   "source": [
    "# Convert all merged dataframe to CSV\n",
    "biz_selected.to_csv('biz_selected.csv', index=False)"
   ]
  },
  {
   "cell_type": "markdown",
   "id": "ba67d507",
   "metadata": {},
   "source": [
    "Next import the merged dataframe for data analysis, Sentiment analyis, statistical analysis, and hypothesis testing."
   ]
  }
 ],
 "metadata": {
  "kernelspec": {
   "display_name": "Python 3 (ipykernel)",
   "language": "python",
   "name": "python3"
  },
  "language_info": {
   "codemirror_mode": {
    "name": "ipython",
    "version": 3
   },
   "file_extension": ".py",
   "mimetype": "text/x-python",
   "name": "python",
   "nbconvert_exporter": "python",
   "pygments_lexer": "ipython3",
   "version": "3.11.4"
  }
 },
 "nbformat": 4,
 "nbformat_minor": 5
}
